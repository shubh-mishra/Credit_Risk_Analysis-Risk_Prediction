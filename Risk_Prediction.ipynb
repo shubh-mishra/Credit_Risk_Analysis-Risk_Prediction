{
  "nbformat": 4,
  "nbformat_minor": 0,
  "metadata": {
    "colab": {
      "provenance": []
    },
    "kernelspec": {
      "name": "python3",
      "display_name": "Python 3"
    },
    "language_info": {
      "name": "python"
    }
  },
  "cells": [
    {
      "cell_type": "markdown",
      "source": [
        "# Risk Prediction for Credit Risk Analysis"
      ],
      "metadata": {
        "id": "ROVQ1oAetHaU"
      }
    },
    {
      "cell_type": "markdown",
      "source": [
        "## 1. Introduction "
      ],
      "metadata": {
        "id": "ApqrFxz4wKrs"
      }
    },
    {
      "cell_type": "markdown",
      "source": [
        "### Import libraries"
      ],
      "metadata": {
        "id": "ZBY2l9k1tk2z"
      }
    },
    {
      "cell_type": "code",
      "source": [
        "import pandas as pd\n",
        "import numpy as np\n",
        "import matplotlib.pyplot as plt\n",
        "import seaborn as sns\n",
        "import joblib"
      ],
      "metadata": {
        "id": "C3yb9gzutoHL"
      },
      "execution_count": 1,
      "outputs": []
    },
    {
      "cell_type": "markdown",
      "source": [
        "### Get data"
      ],
      "metadata": {
        "id": "XAiK6kaKtZ40"
      }
    },
    {
      "cell_type": "code",
      "execution_count": 2,
      "metadata": {
        "colab": {
          "base_uri": "https://localhost:8080/"
        },
        "id": "6Lfl00xatCjo",
        "outputId": "0e0c5654-a60c-4671-83f0-c3897f861be3"
      },
      "outputs": [
        {
          "output_type": "stream",
          "name": "stdout",
          "text": [
            "--2023-03-13 06:47:40--  https://raw.githubusercontent.com/benoitparis/explainable-challenge/master/heloc_dataset_v1.csv\n",
            "Resolving raw.githubusercontent.com (raw.githubusercontent.com)... 185.199.111.133, 185.199.109.133, 185.199.108.133, ...\n",
            "Connecting to raw.githubusercontent.com (raw.githubusercontent.com)|185.199.111.133|:443... connected.\n",
            "HTTP request sent, awaiting response... 200 OK\n",
            "Length: 678479 (663K) [text/plain]\n",
            "Saving to: ‘heloc_dataset_v1.csv’\n",
            "\n",
            "heloc_dataset_v1.cs 100%[===================>] 662.58K  --.-KB/s    in 0.05s   \n",
            "\n",
            "2023-03-13 06:47:40 (14.4 MB/s) - ‘heloc_dataset_v1.csv’ saved [678479/678479]\n",
            "\n"
          ]
        }
      ],
      "source": [
        "!wget https://raw.githubusercontent.com/benoitparis/explainable-challenge/master/heloc_dataset_v1.csv"
      ]
    },
    {
      "cell_type": "code",
      "source": [
        "data = pd.read_csv('/content/heloc_dataset_v1.csv')\n",
        "data.head()"
      ],
      "metadata": {
        "colab": {
          "base_uri": "https://localhost:8080/",
          "height": 299
        },
        "id": "u0hSGj6ptTvO",
        "outputId": "675be476-ba20-47e1-829f-efb71614bab5"
      },
      "execution_count": 3,
      "outputs": [
        {
          "output_type": "execute_result",
          "data": {
            "text/plain": [
              "  RiskPerformance  ExternalRiskEstimate  MSinceOldestTradeOpen  \\\n",
              "0             Bad                    55                    144   \n",
              "1             Bad                    61                     58   \n",
              "2             Bad                    67                     66   \n",
              "3             Bad                    66                    169   \n",
              "4             Bad                    81                    333   \n",
              "\n",
              "   MSinceMostRecentTradeOpen  AverageMInFile  NumSatisfactoryTrades  \\\n",
              "0                          4              84                     20   \n",
              "1                         15              41                      2   \n",
              "2                          5              24                      9   \n",
              "3                          1              73                     28   \n",
              "4                         27             132                     12   \n",
              "\n",
              "   NumTrades60Ever2DerogPubRec  NumTrades90Ever2DerogPubRec  \\\n",
              "0                            3                            0   \n",
              "1                            4                            4   \n",
              "2                            0                            0   \n",
              "3                            1                            1   \n",
              "4                            0                            0   \n",
              "\n",
              "   PercentTradesNeverDelq  MSinceMostRecentDelq  ...  PercentInstallTrades  \\\n",
              "0                      83                     2  ...                    43   \n",
              "1                     100                    -7  ...                    67   \n",
              "2                     100                    -7  ...                    44   \n",
              "3                      93                    76  ...                    57   \n",
              "4                     100                    -7  ...                    25   \n",
              "\n",
              "   MSinceMostRecentInqexcl7days  NumInqLast6M  NumInqLast6Mexcl7days  \\\n",
              "0                             0             0                      0   \n",
              "1                             0             0                      0   \n",
              "2                             0             4                      4   \n",
              "3                             0             5                      4   \n",
              "4                             0             1                      1   \n",
              "\n",
              "   NetFractionRevolvingBurden  NetFractionInstallBurden  \\\n",
              "0                          33                        -8   \n",
              "1                           0                        -8   \n",
              "2                          53                        66   \n",
              "3                          72                        83   \n",
              "4                          51                        89   \n",
              "\n",
              "   NumRevolvingTradesWBalance  NumInstallTradesWBalance  \\\n",
              "0                           8                         1   \n",
              "1                           0                        -8   \n",
              "2                           4                         2   \n",
              "3                           6                         4   \n",
              "4                           3                         1   \n",
              "\n",
              "   NumBank2NatlTradesWHighUtilization  PercentTradesWBalance  \n",
              "0                                   1                     69  \n",
              "1                                  -8                      0  \n",
              "2                                   1                     86  \n",
              "3                                   3                     91  \n",
              "4                                   0                     80  \n",
              "\n",
              "[5 rows x 24 columns]"
            ],
            "text/html": [
              "\n",
              "  <div id=\"df-a90c23fe-e9c0-4f45-bef2-110ffb35f9ee\">\n",
              "    <div class=\"colab-df-container\">\n",
              "      <div>\n",
              "<style scoped>\n",
              "    .dataframe tbody tr th:only-of-type {\n",
              "        vertical-align: middle;\n",
              "    }\n",
              "\n",
              "    .dataframe tbody tr th {\n",
              "        vertical-align: top;\n",
              "    }\n",
              "\n",
              "    .dataframe thead th {\n",
              "        text-align: right;\n",
              "    }\n",
              "</style>\n",
              "<table border=\"1\" class=\"dataframe\">\n",
              "  <thead>\n",
              "    <tr style=\"text-align: right;\">\n",
              "      <th></th>\n",
              "      <th>RiskPerformance</th>\n",
              "      <th>ExternalRiskEstimate</th>\n",
              "      <th>MSinceOldestTradeOpen</th>\n",
              "      <th>MSinceMostRecentTradeOpen</th>\n",
              "      <th>AverageMInFile</th>\n",
              "      <th>NumSatisfactoryTrades</th>\n",
              "      <th>NumTrades60Ever2DerogPubRec</th>\n",
              "      <th>NumTrades90Ever2DerogPubRec</th>\n",
              "      <th>PercentTradesNeverDelq</th>\n",
              "      <th>MSinceMostRecentDelq</th>\n",
              "      <th>...</th>\n",
              "      <th>PercentInstallTrades</th>\n",
              "      <th>MSinceMostRecentInqexcl7days</th>\n",
              "      <th>NumInqLast6M</th>\n",
              "      <th>NumInqLast6Mexcl7days</th>\n",
              "      <th>NetFractionRevolvingBurden</th>\n",
              "      <th>NetFractionInstallBurden</th>\n",
              "      <th>NumRevolvingTradesWBalance</th>\n",
              "      <th>NumInstallTradesWBalance</th>\n",
              "      <th>NumBank2NatlTradesWHighUtilization</th>\n",
              "      <th>PercentTradesWBalance</th>\n",
              "    </tr>\n",
              "  </thead>\n",
              "  <tbody>\n",
              "    <tr>\n",
              "      <th>0</th>\n",
              "      <td>Bad</td>\n",
              "      <td>55</td>\n",
              "      <td>144</td>\n",
              "      <td>4</td>\n",
              "      <td>84</td>\n",
              "      <td>20</td>\n",
              "      <td>3</td>\n",
              "      <td>0</td>\n",
              "      <td>83</td>\n",
              "      <td>2</td>\n",
              "      <td>...</td>\n",
              "      <td>43</td>\n",
              "      <td>0</td>\n",
              "      <td>0</td>\n",
              "      <td>0</td>\n",
              "      <td>33</td>\n",
              "      <td>-8</td>\n",
              "      <td>8</td>\n",
              "      <td>1</td>\n",
              "      <td>1</td>\n",
              "      <td>69</td>\n",
              "    </tr>\n",
              "    <tr>\n",
              "      <th>1</th>\n",
              "      <td>Bad</td>\n",
              "      <td>61</td>\n",
              "      <td>58</td>\n",
              "      <td>15</td>\n",
              "      <td>41</td>\n",
              "      <td>2</td>\n",
              "      <td>4</td>\n",
              "      <td>4</td>\n",
              "      <td>100</td>\n",
              "      <td>-7</td>\n",
              "      <td>...</td>\n",
              "      <td>67</td>\n",
              "      <td>0</td>\n",
              "      <td>0</td>\n",
              "      <td>0</td>\n",
              "      <td>0</td>\n",
              "      <td>-8</td>\n",
              "      <td>0</td>\n",
              "      <td>-8</td>\n",
              "      <td>-8</td>\n",
              "      <td>0</td>\n",
              "    </tr>\n",
              "    <tr>\n",
              "      <th>2</th>\n",
              "      <td>Bad</td>\n",
              "      <td>67</td>\n",
              "      <td>66</td>\n",
              "      <td>5</td>\n",
              "      <td>24</td>\n",
              "      <td>9</td>\n",
              "      <td>0</td>\n",
              "      <td>0</td>\n",
              "      <td>100</td>\n",
              "      <td>-7</td>\n",
              "      <td>...</td>\n",
              "      <td>44</td>\n",
              "      <td>0</td>\n",
              "      <td>4</td>\n",
              "      <td>4</td>\n",
              "      <td>53</td>\n",
              "      <td>66</td>\n",
              "      <td>4</td>\n",
              "      <td>2</td>\n",
              "      <td>1</td>\n",
              "      <td>86</td>\n",
              "    </tr>\n",
              "    <tr>\n",
              "      <th>3</th>\n",
              "      <td>Bad</td>\n",
              "      <td>66</td>\n",
              "      <td>169</td>\n",
              "      <td>1</td>\n",
              "      <td>73</td>\n",
              "      <td>28</td>\n",
              "      <td>1</td>\n",
              "      <td>1</td>\n",
              "      <td>93</td>\n",
              "      <td>76</td>\n",
              "      <td>...</td>\n",
              "      <td>57</td>\n",
              "      <td>0</td>\n",
              "      <td>5</td>\n",
              "      <td>4</td>\n",
              "      <td>72</td>\n",
              "      <td>83</td>\n",
              "      <td>6</td>\n",
              "      <td>4</td>\n",
              "      <td>3</td>\n",
              "      <td>91</td>\n",
              "    </tr>\n",
              "    <tr>\n",
              "      <th>4</th>\n",
              "      <td>Bad</td>\n",
              "      <td>81</td>\n",
              "      <td>333</td>\n",
              "      <td>27</td>\n",
              "      <td>132</td>\n",
              "      <td>12</td>\n",
              "      <td>0</td>\n",
              "      <td>0</td>\n",
              "      <td>100</td>\n",
              "      <td>-7</td>\n",
              "      <td>...</td>\n",
              "      <td>25</td>\n",
              "      <td>0</td>\n",
              "      <td>1</td>\n",
              "      <td>1</td>\n",
              "      <td>51</td>\n",
              "      <td>89</td>\n",
              "      <td>3</td>\n",
              "      <td>1</td>\n",
              "      <td>0</td>\n",
              "      <td>80</td>\n",
              "    </tr>\n",
              "  </tbody>\n",
              "</table>\n",
              "<p>5 rows × 24 columns</p>\n",
              "</div>\n",
              "      <button class=\"colab-df-convert\" onclick=\"convertToInteractive('df-a90c23fe-e9c0-4f45-bef2-110ffb35f9ee')\"\n",
              "              title=\"Convert this dataframe to an interactive table.\"\n",
              "              style=\"display:none;\">\n",
              "        \n",
              "  <svg xmlns=\"http://www.w3.org/2000/svg\" height=\"24px\"viewBox=\"0 0 24 24\"\n",
              "       width=\"24px\">\n",
              "    <path d=\"M0 0h24v24H0V0z\" fill=\"none\"/>\n",
              "    <path d=\"M18.56 5.44l.94 2.06.94-2.06 2.06-.94-2.06-.94-.94-2.06-.94 2.06-2.06.94zm-11 1L8.5 8.5l.94-2.06 2.06-.94-2.06-.94L8.5 2.5l-.94 2.06-2.06.94zm10 10l.94 2.06.94-2.06 2.06-.94-2.06-.94-.94-2.06-.94 2.06-2.06.94z\"/><path d=\"M17.41 7.96l-1.37-1.37c-.4-.4-.92-.59-1.43-.59-.52 0-1.04.2-1.43.59L10.3 9.45l-7.72 7.72c-.78.78-.78 2.05 0 2.83L4 21.41c.39.39.9.59 1.41.59.51 0 1.02-.2 1.41-.59l7.78-7.78 2.81-2.81c.8-.78.8-2.07 0-2.86zM5.41 20L4 18.59l7.72-7.72 1.47 1.35L5.41 20z\"/>\n",
              "  </svg>\n",
              "      </button>\n",
              "      \n",
              "  <style>\n",
              "    .colab-df-container {\n",
              "      display:flex;\n",
              "      flex-wrap:wrap;\n",
              "      gap: 12px;\n",
              "    }\n",
              "\n",
              "    .colab-df-convert {\n",
              "      background-color: #E8F0FE;\n",
              "      border: none;\n",
              "      border-radius: 50%;\n",
              "      cursor: pointer;\n",
              "      display: none;\n",
              "      fill: #1967D2;\n",
              "      height: 32px;\n",
              "      padding: 0 0 0 0;\n",
              "      width: 32px;\n",
              "    }\n",
              "\n",
              "    .colab-df-convert:hover {\n",
              "      background-color: #E2EBFA;\n",
              "      box-shadow: 0px 1px 2px rgba(60, 64, 67, 0.3), 0px 1px 3px 1px rgba(60, 64, 67, 0.15);\n",
              "      fill: #174EA6;\n",
              "    }\n",
              "\n",
              "    [theme=dark] .colab-df-convert {\n",
              "      background-color: #3B4455;\n",
              "      fill: #D2E3FC;\n",
              "    }\n",
              "\n",
              "    [theme=dark] .colab-df-convert:hover {\n",
              "      background-color: #434B5C;\n",
              "      box-shadow: 0px 1px 3px 1px rgba(0, 0, 0, 0.15);\n",
              "      filter: drop-shadow(0px 1px 2px rgba(0, 0, 0, 0.3));\n",
              "      fill: #FFFFFF;\n",
              "    }\n",
              "  </style>\n",
              "\n",
              "      <script>\n",
              "        const buttonEl =\n",
              "          document.querySelector('#df-a90c23fe-e9c0-4f45-bef2-110ffb35f9ee button.colab-df-convert');\n",
              "        buttonEl.style.display =\n",
              "          google.colab.kernel.accessAllowed ? 'block' : 'none';\n",
              "\n",
              "        async function convertToInteractive(key) {\n",
              "          const element = document.querySelector('#df-a90c23fe-e9c0-4f45-bef2-110ffb35f9ee');\n",
              "          const dataTable =\n",
              "            await google.colab.kernel.invokeFunction('convertToInteractive',\n",
              "                                                     [key], {});\n",
              "          if (!dataTable) return;\n",
              "\n",
              "          const docLinkHtml = 'Like what you see? Visit the ' +\n",
              "            '<a target=\"_blank\" href=https://colab.research.google.com/notebooks/data_table.ipynb>data table notebook</a>'\n",
              "            + ' to learn more about interactive tables.';\n",
              "          element.innerHTML = '';\n",
              "          dataTable['output_type'] = 'display_data';\n",
              "          await google.colab.output.renderOutput(dataTable, element);\n",
              "          const docLink = document.createElement('div');\n",
              "          docLink.innerHTML = docLinkHtml;\n",
              "          element.appendChild(docLink);\n",
              "        }\n",
              "      </script>\n",
              "    </div>\n",
              "  </div>\n",
              "  "
            ]
          },
          "metadata": {},
          "execution_count": 3
        }
      ]
    },
    {
      "cell_type": "code",
      "source": [
        "data.shape"
      ],
      "metadata": {
        "colab": {
          "base_uri": "https://localhost:8080/"
        },
        "id": "85fhW6_cuO0V",
        "outputId": "f262e921-c3b8-4158-d8c0-6128bb2ebec9"
      },
      "execution_count": 4,
      "outputs": [
        {
          "output_type": "execute_result",
          "data": {
            "text/plain": [
              "(10459, 24)"
            ]
          },
          "metadata": {},
          "execution_count": 4
        }
      ]
    },
    {
      "cell_type": "code",
      "source": [
        "data.info()"
      ],
      "metadata": {
        "colab": {
          "base_uri": "https://localhost:8080/"
        },
        "id": "U7f2aip5v0QS",
        "outputId": "f9aee216-63dc-45ac-9c00-856da308b3a4"
      },
      "execution_count": 5,
      "outputs": [
        {
          "output_type": "stream",
          "name": "stdout",
          "text": [
            "<class 'pandas.core.frame.DataFrame'>\n",
            "RangeIndex: 10459 entries, 0 to 10458\n",
            "Data columns (total 24 columns):\n",
            " #   Column                              Non-Null Count  Dtype \n",
            "---  ------                              --------------  ----- \n",
            " 0   RiskPerformance                     10459 non-null  object\n",
            " 1   ExternalRiskEstimate                10459 non-null  int64 \n",
            " 2   MSinceOldestTradeOpen               10459 non-null  int64 \n",
            " 3   MSinceMostRecentTradeOpen           10459 non-null  int64 \n",
            " 4   AverageMInFile                      10459 non-null  int64 \n",
            " 5   NumSatisfactoryTrades               10459 non-null  int64 \n",
            " 6   NumTrades60Ever2DerogPubRec         10459 non-null  int64 \n",
            " 7   NumTrades90Ever2DerogPubRec         10459 non-null  int64 \n",
            " 8   PercentTradesNeverDelq              10459 non-null  int64 \n",
            " 9   MSinceMostRecentDelq                10459 non-null  int64 \n",
            " 10  MaxDelq2PublicRecLast12M            10459 non-null  int64 \n",
            " 11  MaxDelqEver                         10459 non-null  int64 \n",
            " 12  NumTotalTrades                      10459 non-null  int64 \n",
            " 13  NumTradesOpeninLast12M              10459 non-null  int64 \n",
            " 14  PercentInstallTrades                10459 non-null  int64 \n",
            " 15  MSinceMostRecentInqexcl7days        10459 non-null  int64 \n",
            " 16  NumInqLast6M                        10459 non-null  int64 \n",
            " 17  NumInqLast6Mexcl7days               10459 non-null  int64 \n",
            " 18  NetFractionRevolvingBurden          10459 non-null  int64 \n",
            " 19  NetFractionInstallBurden            10459 non-null  int64 \n",
            " 20  NumRevolvingTradesWBalance          10459 non-null  int64 \n",
            " 21  NumInstallTradesWBalance            10459 non-null  int64 \n",
            " 22  NumBank2NatlTradesWHighUtilization  10459 non-null  int64 \n",
            " 23  PercentTradesWBalance               10459 non-null  int64 \n",
            "dtypes: int64(23), object(1)\n",
            "memory usage: 1.9+ MB\n"
          ]
        }
      ]
    },
    {
      "cell_type": "code",
      "source": [
        "data.describe()"
      ],
      "metadata": {
        "colab": {
          "base_uri": "https://localhost:8080/",
          "height": 393
        },
        "id": "DN6__bVTv2Vd",
        "outputId": "706c5f8a-d34e-4649-b387-b992ca35ebe7"
      },
      "execution_count": 6,
      "outputs": [
        {
          "output_type": "execute_result",
          "data": {
            "text/plain": [
              "       ExternalRiskEstimate  MSinceOldestTradeOpen  MSinceMostRecentTradeOpen  \\\n",
              "count          10459.000000           10459.000000               10459.000000   \n",
              "mean              67.425758             184.205373                   8.543455   \n",
              "std               21.121621             109.683816                  13.301745   \n",
              "min               -9.000000              -9.000000                  -9.000000   \n",
              "25%               63.000000             118.000000                   3.000000   \n",
              "50%               71.000000             178.000000                   5.000000   \n",
              "75%               79.000000             249.500000                  11.000000   \n",
              "max               94.000000             803.000000                 383.000000   \n",
              "\n",
              "       AverageMInFile  NumSatisfactoryTrades  NumTrades60Ever2DerogPubRec  \\\n",
              "count    10459.000000           10459.000000                 10459.000000   \n",
              "mean        73.843293              19.428052                     0.042738   \n",
              "std         38.782803              13.004327                     2.513910   \n",
              "min         -9.000000              -9.000000                    -9.000000   \n",
              "25%         52.000000              12.000000                     0.000000   \n",
              "50%         74.000000              19.000000                     0.000000   \n",
              "75%         95.000000              27.000000                     1.000000   \n",
              "max        383.000000              79.000000                    19.000000   \n",
              "\n",
              "       NumTrades90Ever2DerogPubRec  PercentTradesNeverDelq  \\\n",
              "count                 10459.000000            10459.000000   \n",
              "mean                     -0.142843               86.661536   \n",
              "std                       2.367397               25.999584   \n",
              "min                      -9.000000               -9.000000   \n",
              "25%                       0.000000               87.000000   \n",
              "50%                       0.000000               96.000000   \n",
              "75%                       0.000000              100.000000   \n",
              "max                      19.000000              100.000000   \n",
              "\n",
              "       MSinceMostRecentDelq  MaxDelq2PublicRecLast12M  ...  \\\n",
              "count          10459.000000              10459.000000  ...   \n",
              "mean               6.762406                  4.928291  ...   \n",
              "std               20.501250                  3.756275  ...   \n",
              "min               -9.000000                 -9.000000  ...   \n",
              "25%               -7.000000                  4.000000  ...   \n",
              "50%               -7.000000                  6.000000  ...   \n",
              "75%               14.000000                  7.000000  ...   \n",
              "max               83.000000                  9.000000  ...   \n",
              "\n",
              "       PercentInstallTrades  MSinceMostRecentInqexcl7days  NumInqLast6M  \\\n",
              "count          10459.000000                  10459.000000  10459.000000   \n",
              "mean              32.166460                     -0.325366      0.868152   \n",
              "std               20.128634                      6.067556      3.179304   \n",
              "min               -9.000000                     -9.000000     -9.000000   \n",
              "25%               20.000000                     -7.000000      0.000000   \n",
              "50%               31.000000                      0.000000      1.000000   \n",
              "75%               44.000000                      1.000000      2.000000   \n",
              "max              100.000000                     24.000000     66.000000   \n",
              "\n",
              "       NumInqLast6Mexcl7days  NetFractionRevolvingBurden  \\\n",
              "count           10459.000000                10459.000000   \n",
              "mean                0.812602                   31.629888   \n",
              "std                 3.143698                   30.060140   \n",
              "min                -9.000000                   -9.000000   \n",
              "25%                 0.000000                    5.000000   \n",
              "50%                 1.000000                   25.000000   \n",
              "75%                 2.000000                   54.000000   \n",
              "max                66.000000                  232.000000   \n",
              "\n",
              "       NetFractionInstallBurden  NumRevolvingTradesWBalance  \\\n",
              "count              10459.000000                10459.000000   \n",
              "mean                  39.158906                    3.185008   \n",
              "std                   42.101601                    4.413173   \n",
              "min                   -9.000000                   -9.000000   \n",
              "25%                   -8.000000                    2.000000   \n",
              "50%                   47.000000                    3.000000   \n",
              "75%                   79.000000                    5.000000   \n",
              "max                  471.000000                   32.000000   \n",
              "\n",
              "       NumInstallTradesWBalance  NumBank2NatlTradesWHighUtilization  \\\n",
              "count              10459.000000                        10459.000000   \n",
              "mean                   0.976097                            0.018071   \n",
              "std                    4.060995                            3.358135   \n",
              "min                   -9.000000                           -9.000000   \n",
              "25%                    1.000000                            0.000000   \n",
              "50%                    2.000000                            0.000000   \n",
              "75%                    3.000000                            1.000000   \n",
              "max                   23.000000                           18.000000   \n",
              "\n",
              "       PercentTradesWBalance  \n",
              "count           10459.000000  \n",
              "mean               62.079166  \n",
              "std                27.711565  \n",
              "min                -9.000000  \n",
              "25%                47.000000  \n",
              "50%                67.000000  \n",
              "75%                82.000000  \n",
              "max               100.000000  \n",
              "\n",
              "[8 rows x 23 columns]"
            ],
            "text/html": [
              "\n",
              "  <div id=\"df-e4595b75-cfd3-468c-b55a-f2034fe4570d\">\n",
              "    <div class=\"colab-df-container\">\n",
              "      <div>\n",
              "<style scoped>\n",
              "    .dataframe tbody tr th:only-of-type {\n",
              "        vertical-align: middle;\n",
              "    }\n",
              "\n",
              "    .dataframe tbody tr th {\n",
              "        vertical-align: top;\n",
              "    }\n",
              "\n",
              "    .dataframe thead th {\n",
              "        text-align: right;\n",
              "    }\n",
              "</style>\n",
              "<table border=\"1\" class=\"dataframe\">\n",
              "  <thead>\n",
              "    <tr style=\"text-align: right;\">\n",
              "      <th></th>\n",
              "      <th>ExternalRiskEstimate</th>\n",
              "      <th>MSinceOldestTradeOpen</th>\n",
              "      <th>MSinceMostRecentTradeOpen</th>\n",
              "      <th>AverageMInFile</th>\n",
              "      <th>NumSatisfactoryTrades</th>\n",
              "      <th>NumTrades60Ever2DerogPubRec</th>\n",
              "      <th>NumTrades90Ever2DerogPubRec</th>\n",
              "      <th>PercentTradesNeverDelq</th>\n",
              "      <th>MSinceMostRecentDelq</th>\n",
              "      <th>MaxDelq2PublicRecLast12M</th>\n",
              "      <th>...</th>\n",
              "      <th>PercentInstallTrades</th>\n",
              "      <th>MSinceMostRecentInqexcl7days</th>\n",
              "      <th>NumInqLast6M</th>\n",
              "      <th>NumInqLast6Mexcl7days</th>\n",
              "      <th>NetFractionRevolvingBurden</th>\n",
              "      <th>NetFractionInstallBurden</th>\n",
              "      <th>NumRevolvingTradesWBalance</th>\n",
              "      <th>NumInstallTradesWBalance</th>\n",
              "      <th>NumBank2NatlTradesWHighUtilization</th>\n",
              "      <th>PercentTradesWBalance</th>\n",
              "    </tr>\n",
              "  </thead>\n",
              "  <tbody>\n",
              "    <tr>\n",
              "      <th>count</th>\n",
              "      <td>10459.000000</td>\n",
              "      <td>10459.000000</td>\n",
              "      <td>10459.000000</td>\n",
              "      <td>10459.000000</td>\n",
              "      <td>10459.000000</td>\n",
              "      <td>10459.000000</td>\n",
              "      <td>10459.000000</td>\n",
              "      <td>10459.000000</td>\n",
              "      <td>10459.000000</td>\n",
              "      <td>10459.000000</td>\n",
              "      <td>...</td>\n",
              "      <td>10459.000000</td>\n",
              "      <td>10459.000000</td>\n",
              "      <td>10459.000000</td>\n",
              "      <td>10459.000000</td>\n",
              "      <td>10459.000000</td>\n",
              "      <td>10459.000000</td>\n",
              "      <td>10459.000000</td>\n",
              "      <td>10459.000000</td>\n",
              "      <td>10459.000000</td>\n",
              "      <td>10459.000000</td>\n",
              "    </tr>\n",
              "    <tr>\n",
              "      <th>mean</th>\n",
              "      <td>67.425758</td>\n",
              "      <td>184.205373</td>\n",
              "      <td>8.543455</td>\n",
              "      <td>73.843293</td>\n",
              "      <td>19.428052</td>\n",
              "      <td>0.042738</td>\n",
              "      <td>-0.142843</td>\n",
              "      <td>86.661536</td>\n",
              "      <td>6.762406</td>\n",
              "      <td>4.928291</td>\n",
              "      <td>...</td>\n",
              "      <td>32.166460</td>\n",
              "      <td>-0.325366</td>\n",
              "      <td>0.868152</td>\n",
              "      <td>0.812602</td>\n",
              "      <td>31.629888</td>\n",
              "      <td>39.158906</td>\n",
              "      <td>3.185008</td>\n",
              "      <td>0.976097</td>\n",
              "      <td>0.018071</td>\n",
              "      <td>62.079166</td>\n",
              "    </tr>\n",
              "    <tr>\n",
              "      <th>std</th>\n",
              "      <td>21.121621</td>\n",
              "      <td>109.683816</td>\n",
              "      <td>13.301745</td>\n",
              "      <td>38.782803</td>\n",
              "      <td>13.004327</td>\n",
              "      <td>2.513910</td>\n",
              "      <td>2.367397</td>\n",
              "      <td>25.999584</td>\n",
              "      <td>20.501250</td>\n",
              "      <td>3.756275</td>\n",
              "      <td>...</td>\n",
              "      <td>20.128634</td>\n",
              "      <td>6.067556</td>\n",
              "      <td>3.179304</td>\n",
              "      <td>3.143698</td>\n",
              "      <td>30.060140</td>\n",
              "      <td>42.101601</td>\n",
              "      <td>4.413173</td>\n",
              "      <td>4.060995</td>\n",
              "      <td>3.358135</td>\n",
              "      <td>27.711565</td>\n",
              "    </tr>\n",
              "    <tr>\n",
              "      <th>min</th>\n",
              "      <td>-9.000000</td>\n",
              "      <td>-9.000000</td>\n",
              "      <td>-9.000000</td>\n",
              "      <td>-9.000000</td>\n",
              "      <td>-9.000000</td>\n",
              "      <td>-9.000000</td>\n",
              "      <td>-9.000000</td>\n",
              "      <td>-9.000000</td>\n",
              "      <td>-9.000000</td>\n",
              "      <td>-9.000000</td>\n",
              "      <td>...</td>\n",
              "      <td>-9.000000</td>\n",
              "      <td>-9.000000</td>\n",
              "      <td>-9.000000</td>\n",
              "      <td>-9.000000</td>\n",
              "      <td>-9.000000</td>\n",
              "      <td>-9.000000</td>\n",
              "      <td>-9.000000</td>\n",
              "      <td>-9.000000</td>\n",
              "      <td>-9.000000</td>\n",
              "      <td>-9.000000</td>\n",
              "    </tr>\n",
              "    <tr>\n",
              "      <th>25%</th>\n",
              "      <td>63.000000</td>\n",
              "      <td>118.000000</td>\n",
              "      <td>3.000000</td>\n",
              "      <td>52.000000</td>\n",
              "      <td>12.000000</td>\n",
              "      <td>0.000000</td>\n",
              "      <td>0.000000</td>\n",
              "      <td>87.000000</td>\n",
              "      <td>-7.000000</td>\n",
              "      <td>4.000000</td>\n",
              "      <td>...</td>\n",
              "      <td>20.000000</td>\n",
              "      <td>-7.000000</td>\n",
              "      <td>0.000000</td>\n",
              "      <td>0.000000</td>\n",
              "      <td>5.000000</td>\n",
              "      <td>-8.000000</td>\n",
              "      <td>2.000000</td>\n",
              "      <td>1.000000</td>\n",
              "      <td>0.000000</td>\n",
              "      <td>47.000000</td>\n",
              "    </tr>\n",
              "    <tr>\n",
              "      <th>50%</th>\n",
              "      <td>71.000000</td>\n",
              "      <td>178.000000</td>\n",
              "      <td>5.000000</td>\n",
              "      <td>74.000000</td>\n",
              "      <td>19.000000</td>\n",
              "      <td>0.000000</td>\n",
              "      <td>0.000000</td>\n",
              "      <td>96.000000</td>\n",
              "      <td>-7.000000</td>\n",
              "      <td>6.000000</td>\n",
              "      <td>...</td>\n",
              "      <td>31.000000</td>\n",
              "      <td>0.000000</td>\n",
              "      <td>1.000000</td>\n",
              "      <td>1.000000</td>\n",
              "      <td>25.000000</td>\n",
              "      <td>47.000000</td>\n",
              "      <td>3.000000</td>\n",
              "      <td>2.000000</td>\n",
              "      <td>0.000000</td>\n",
              "      <td>67.000000</td>\n",
              "    </tr>\n",
              "    <tr>\n",
              "      <th>75%</th>\n",
              "      <td>79.000000</td>\n",
              "      <td>249.500000</td>\n",
              "      <td>11.000000</td>\n",
              "      <td>95.000000</td>\n",
              "      <td>27.000000</td>\n",
              "      <td>1.000000</td>\n",
              "      <td>0.000000</td>\n",
              "      <td>100.000000</td>\n",
              "      <td>14.000000</td>\n",
              "      <td>7.000000</td>\n",
              "      <td>...</td>\n",
              "      <td>44.000000</td>\n",
              "      <td>1.000000</td>\n",
              "      <td>2.000000</td>\n",
              "      <td>2.000000</td>\n",
              "      <td>54.000000</td>\n",
              "      <td>79.000000</td>\n",
              "      <td>5.000000</td>\n",
              "      <td>3.000000</td>\n",
              "      <td>1.000000</td>\n",
              "      <td>82.000000</td>\n",
              "    </tr>\n",
              "    <tr>\n",
              "      <th>max</th>\n",
              "      <td>94.000000</td>\n",
              "      <td>803.000000</td>\n",
              "      <td>383.000000</td>\n",
              "      <td>383.000000</td>\n",
              "      <td>79.000000</td>\n",
              "      <td>19.000000</td>\n",
              "      <td>19.000000</td>\n",
              "      <td>100.000000</td>\n",
              "      <td>83.000000</td>\n",
              "      <td>9.000000</td>\n",
              "      <td>...</td>\n",
              "      <td>100.000000</td>\n",
              "      <td>24.000000</td>\n",
              "      <td>66.000000</td>\n",
              "      <td>66.000000</td>\n",
              "      <td>232.000000</td>\n",
              "      <td>471.000000</td>\n",
              "      <td>32.000000</td>\n",
              "      <td>23.000000</td>\n",
              "      <td>18.000000</td>\n",
              "      <td>100.000000</td>\n",
              "    </tr>\n",
              "  </tbody>\n",
              "</table>\n",
              "<p>8 rows × 23 columns</p>\n",
              "</div>\n",
              "      <button class=\"colab-df-convert\" onclick=\"convertToInteractive('df-e4595b75-cfd3-468c-b55a-f2034fe4570d')\"\n",
              "              title=\"Convert this dataframe to an interactive table.\"\n",
              "              style=\"display:none;\">\n",
              "        \n",
              "  <svg xmlns=\"http://www.w3.org/2000/svg\" height=\"24px\"viewBox=\"0 0 24 24\"\n",
              "       width=\"24px\">\n",
              "    <path d=\"M0 0h24v24H0V0z\" fill=\"none\"/>\n",
              "    <path d=\"M18.56 5.44l.94 2.06.94-2.06 2.06-.94-2.06-.94-.94-2.06-.94 2.06-2.06.94zm-11 1L8.5 8.5l.94-2.06 2.06-.94-2.06-.94L8.5 2.5l-.94 2.06-2.06.94zm10 10l.94 2.06.94-2.06 2.06-.94-2.06-.94-.94-2.06-.94 2.06-2.06.94z\"/><path d=\"M17.41 7.96l-1.37-1.37c-.4-.4-.92-.59-1.43-.59-.52 0-1.04.2-1.43.59L10.3 9.45l-7.72 7.72c-.78.78-.78 2.05 0 2.83L4 21.41c.39.39.9.59 1.41.59.51 0 1.02-.2 1.41-.59l7.78-7.78 2.81-2.81c.8-.78.8-2.07 0-2.86zM5.41 20L4 18.59l7.72-7.72 1.47 1.35L5.41 20z\"/>\n",
              "  </svg>\n",
              "      </button>\n",
              "      \n",
              "  <style>\n",
              "    .colab-df-container {\n",
              "      display:flex;\n",
              "      flex-wrap:wrap;\n",
              "      gap: 12px;\n",
              "    }\n",
              "\n",
              "    .colab-df-convert {\n",
              "      background-color: #E8F0FE;\n",
              "      border: none;\n",
              "      border-radius: 50%;\n",
              "      cursor: pointer;\n",
              "      display: none;\n",
              "      fill: #1967D2;\n",
              "      height: 32px;\n",
              "      padding: 0 0 0 0;\n",
              "      width: 32px;\n",
              "    }\n",
              "\n",
              "    .colab-df-convert:hover {\n",
              "      background-color: #E2EBFA;\n",
              "      box-shadow: 0px 1px 2px rgba(60, 64, 67, 0.3), 0px 1px 3px 1px rgba(60, 64, 67, 0.15);\n",
              "      fill: #174EA6;\n",
              "    }\n",
              "\n",
              "    [theme=dark] .colab-df-convert {\n",
              "      background-color: #3B4455;\n",
              "      fill: #D2E3FC;\n",
              "    }\n",
              "\n",
              "    [theme=dark] .colab-df-convert:hover {\n",
              "      background-color: #434B5C;\n",
              "      box-shadow: 0px 1px 3px 1px rgba(0, 0, 0, 0.15);\n",
              "      filter: drop-shadow(0px 1px 2px rgba(0, 0, 0, 0.3));\n",
              "      fill: #FFFFFF;\n",
              "    }\n",
              "  </style>\n",
              "\n",
              "      <script>\n",
              "        const buttonEl =\n",
              "          document.querySelector('#df-e4595b75-cfd3-468c-b55a-f2034fe4570d button.colab-df-convert');\n",
              "        buttonEl.style.display =\n",
              "          google.colab.kernel.accessAllowed ? 'block' : 'none';\n",
              "\n",
              "        async function convertToInteractive(key) {\n",
              "          const element = document.querySelector('#df-e4595b75-cfd3-468c-b55a-f2034fe4570d');\n",
              "          const dataTable =\n",
              "            await google.colab.kernel.invokeFunction('convertToInteractive',\n",
              "                                                     [key], {});\n",
              "          if (!dataTable) return;\n",
              "\n",
              "          const docLinkHtml = 'Like what you see? Visit the ' +\n",
              "            '<a target=\"_blank\" href=https://colab.research.google.com/notebooks/data_table.ipynb>data table notebook</a>'\n",
              "            + ' to learn more about interactive tables.';\n",
              "          element.innerHTML = '';\n",
              "          dataTable['output_type'] = 'display_data';\n",
              "          await google.colab.output.renderOutput(dataTable, element);\n",
              "          const docLink = document.createElement('div');\n",
              "          docLink.innerHTML = docLinkHtml;\n",
              "          element.appendChild(docLink);\n",
              "        }\n",
              "      </script>\n",
              "    </div>\n",
              "  </div>\n",
              "  "
            ]
          },
          "metadata": {},
          "execution_count": 6
        }
      ]
    },
    {
      "cell_type": "markdown",
      "source": [
        "## 2. Data Preprocessing"
      ],
      "metadata": {
        "id": "o__HPACVwPnr"
      }
    },
    {
      "cell_type": "code",
      "source": [
        "# Import libraries\n",
        "from sklearn.model_selection import train_test_split\n",
        "from sklearn.impute import SimpleImputer\n",
        "from sklearn.pipeline import Pipeline\n",
        "from sklearn.preprocessing import StandardScaler"
      ],
      "metadata": {
        "id": "NlR9ui1Rv4ZP"
      },
      "execution_count": 7,
      "outputs": []
    },
    {
      "cell_type": "code",
      "source": [
        "# Define X and y\n",
        "X = data.drop('RiskPerformance', axis=1)\n",
        "y = data['RiskPerformance']"
      ],
      "metadata": {
        "id": "QI3NRCzMxTed"
      },
      "execution_count": 8,
      "outputs": []
    },
    {
      "cell_type": "code",
      "source": [
        "# Factorize y\n",
        "y = y.map({'Good': 1, 'Bad':0})"
      ],
      "metadata": {
        "id": "X5GINAplx3IA"
      },
      "execution_count": 9,
      "outputs": []
    },
    {
      "cell_type": "code",
      "source": [
        "# One hot encode 'MaxDelq2PublicRecLast12M', 'MaxDelqEver'\n",
        "dummies = pd.get_dummies(X[['MaxDelq2PublicRecLast12M', 'MaxDelqEver']].astype(str), drop_first=True)\n",
        "X.drop(['MaxDelq2PublicRecLast12M', 'MaxDelqEver'], axis=1, inplace=True)"
      ],
      "metadata": {
        "id": "kuuDmlsvx8Dg"
      },
      "execution_count": 10,
      "outputs": []
    },
    {
      "cell_type": "code",
      "source": [
        "# One-hot encode for -7, -8, -9 values\n",
        "def get_special_dummies(X, col):\n",
        "  \"\"\"\n",
        "  One-hot encode for -7, -8, -9 values in each column\n",
        "  \"\"\"\n",
        "  X[col + '_-7'] = X[col].apply(lambda row:int(row==-7))\n",
        "  X[col + '_-8'] = X[col].apply(lambda row:int(row==-8))\n",
        "  X[col + '_-9'] = X[col].apply(lambda row:int(row==-9))\n",
        "\n",
        "for col in X.columns:\n",
        "    get_special_dummies(X, col)"
      ],
      "metadata": {
        "id": "FTb97IcRyMmb"
      },
      "execution_count": 11,
      "outputs": []
    },
    {
      "cell_type": "code",
      "source": [
        "# Concatenate X and dummies\n",
        "X = pd.concat([X, dummies], axis=1)"
      ],
      "metadata": {
        "id": "Giey1jgF0WcN"
      },
      "execution_count": 12,
      "outputs": []
    },
    {
      "cell_type": "code",
      "source": [
        "# Replace negative values with NaN\n",
        "X[X<0] = np.nan"
      ],
      "metadata": {
        "id": "tSGoiNAg1iNC"
      },
      "execution_count": 13,
      "outputs": []
    },
    {
      "cell_type": "code",
      "source": [
        "# Train test split\n",
        "X_train, X_test, y_train, y_test = train_test_split(X, y, test_size=.2, random_state=42)"
      ],
      "metadata": {
        "id": "ET43JHD91upG"
      },
      "execution_count": 14,
      "outputs": []
    },
    {
      "cell_type": "code",
      "source": [
        "# Pipeline for imputing missing values and scaling\n",
        "preprocessor = Pipeline(steps=[\n",
        "    ('imputer', SimpleImputer(strategy='mean')),\n",
        "    ('scaler', StandardScaler())\n",
        "])\n",
        "\n",
        "X_train = preprocessor.fit_transform(X_train)\n",
        "X_test = preprocessor.fit_transform(X_test)"
      ],
      "metadata": {
        "id": "PQpaj2op1_xK"
      },
      "execution_count": 15,
      "outputs": []
    },
    {
      "cell_type": "markdown",
      "source": [
        "## 3. Modelling"
      ],
      "metadata": {
        "id": "tQymtPU43nJA"
      }
    },
    {
      "cell_type": "code",
      "source": [
        "from sklearn.model_selection import KFold, cross_val_score, GridSearchCV\n",
        "from sklearn.metrics import accuracy_score, roc_auc_score, auc, roc_curve\n",
        "from sklearn.ensemble import RandomForestClassifier\n",
        "from sklearn.linear_model import LogisticRegression\n",
        "from sklearn.svm import SVC\n",
        "from lightgbm import LGBMClassifier"
      ],
      "metadata": {
        "id": "oiICPS-y3WjZ"
      },
      "execution_count": 16,
      "outputs": []
    },
    {
      "cell_type": "code",
      "source": [
        "def gridSearchCV(model, params):\n",
        "\n",
        "  model_cv = GridSearchCV(model,\n",
        "                          param_grid=params,\n",
        "                          cv=5,\n",
        "                          scoring='roc_auc')\n",
        "  model_cv.fit(X_train, y_train)\n",
        "  cv_results = pd.DataFrame(model_cv.cv_results_)[['params', 'mean_test_score']]\n",
        "\n",
        "  return cv_results"
      ],
      "metadata": {
        "id": "YDDQTHPw47BN"
      },
      "execution_count": 17,
      "outputs": []
    },
    {
      "cell_type": "code",
      "source": [
        "def evaluate(model, plotROC=False):\n",
        "\n",
        "  model.fit(X_train, y_train)\n",
        "  probs = model.predict_proba(X_test)\n",
        "  preds = probs[:,1]\n",
        "  fpr, tpr, threshold = roc_curve(y_test, preds)\n",
        "  roc_auc = auc(fpr, tpr)\n",
        "  print(f\"AUC: {roc_auc:.4f}\")\n",
        "\n",
        "  # Find optimal threshold\n",
        "  rocDF = pd.DataFrame({'fpr': fpr,\n",
        "                        'tpr': tpr,\n",
        "                        'threshold': threshold})\n",
        "  rocDF['tpr - fpr'] = rocDF.tpr - rocDF.fpr\n",
        "  optimalThreshold = rocDF.threshold[rocDF['tpr - fpr'].idxmax()]\n",
        "\n",
        "  # Get accuracy over the test set\n",
        "  y_pred = np.where(preds >= optimalThreshold, 1, 0)\n",
        "  accuracy = accuracy_score(y_test, y_pred)\n",
        "  print(f\"Accuracy: {accuracy:.2f}%\")\n",
        "\n",
        "  # Plot roc auc\n",
        "  if plotROC:\n",
        "    plt.title('Receiver Operating Characteristic')\n",
        "    plt.plot(fpr, tpr, 'b', label = 'AUC = %0.2f' % roc_auc)\n",
        "    plt.legend(loc = 'lower right')\n",
        "    plt.plot([0, 1], [0, 1],'r--')\n",
        "    plt.xlim([0, 1])\n",
        "    plt.ylim([0, 1])\n",
        "    plt.ylabel('True Positive Rate')\n",
        "    plt.xlabel('False Positive Rate')\n",
        "    plt.show()\n"
      ],
      "metadata": {
        "id": "GeLsR4V-Y2Oa"
      },
      "execution_count": 28,
      "outputs": []
    },
    {
      "cell_type": "markdown",
      "source": [
        "### 3.1 Random Forest"
      ],
      "metadata": {
        "id": "0zDKctrFdapj"
      }
    },
    {
      "cell_type": "code",
      "source": [
        "params = {'n_estimators': [50, 100]}\n",
        "rfc = RandomForestClassifier(random_state=1)\n",
        "print(gridSearchCV(rfc, params))"
      ],
      "metadata": {
        "colab": {
          "base_uri": "https://localhost:8080/"
        },
        "id": "XFwj8iM8dGqx",
        "outputId": "aa39e4a6-5905-423b-9c8b-2c3af351ad91"
      },
      "execution_count": 19,
      "outputs": [
        {
          "output_type": "stream",
          "name": "stdout",
          "text": [
            "                  params  mean_test_score\n",
            "0   {'n_estimators': 50}         0.790137\n",
            "1  {'n_estimators': 100}         0.795155\n"
          ]
        }
      ]
    },
    {
      "cell_type": "code",
      "source": [
        "rfc = RandomForestClassifier(n_estimators=500, random_state=1)\n",
        "evaluate(rfc, plotROC=True)"
      ],
      "metadata": {
        "colab": {
          "base_uri": "https://localhost:8080/",
          "height": 330
        },
        "id": "AOYMs5CDugAz",
        "outputId": "e23a3a36-92b7-4274-d328-c9a26c11c4ac"
      },
      "execution_count": 29,
      "outputs": [
        {
          "output_type": "stream",
          "name": "stdout",
          "text": [
            "AUC: 0.7705\n",
            "Accuracy: 0.70%\n"
          ]
        },
        {
          "output_type": "display_data",
          "data": {
            "text/plain": [
              "<Figure size 432x288 with 1 Axes>"
            ],
            "image/png": "[encoded data removed]"
          },
          "metadata": {
            "needs_background": "light"
          }
        }
      ]
    },
    {
      "cell_type": "code",
      "source": [],
      "metadata": {
        "id": "n1UukxqquqL_"
      },
      "execution_count": null,
      "outputs": []
    }
  ]
}